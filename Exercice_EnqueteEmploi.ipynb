{
 "cells": [
  {
   "cell_type": "markdown",
   "metadata": {},
   "source": [
    "### Consignes et aide au chargement des données\n",
    "Application empirique, enquête emploi\n",
    "\n",
    "Formation Econométrie en Grande Dimension, Insee\n",
    "\n",
    "14/09/2020\n",
    "\n",
    "Jérémy L'Hour"
   ]
  },
  {
   "cell_type": "markdown",
   "metadata": {},
   "source": [
    "### Consignes\n",
    "Cet exercice a pour but d'aider à comprendre les concepts vus en cours (Sections 1 - 3) sur un exemple empirique, utilisant des données réelles, issues de l'Enquête Emploi.\n",
    "\n",
    "Pour cela, on cherche à connaitre l'effet du niveau de diplôme sur le niveau de salaire, en contrôlant d'une multitude de caractéristiques. Plus précisément, on souhaite construire un intervalle de confiance ayant de bonnes propriétés autour de la valeur estimée de ces effets.\n",
    "\n",
    "L'idée est de mettre en oeuvre les méthodes de sélection de variables (e.g. Lasso) de façon autonome, tout en se posant les bonnes questions sur la procédure à suivre, à la fois pour la mise en oeuvre des algorithmes de ML, mais aussi pour la construction de l'intervalle de confiance (méthode de la double  sélection).\n",
    "\n",
    "L'application est décrite en détails dans la Section 3.7. Des éléments de correction sont donnés par le notebook de l'application, \"ApplicationEnqueteEmploi.ipynb\"."
   ]
  },
  {
   "cell_type": "markdown",
   "metadata": {},
   "source": [
    "### Aide au chargement des données"
   ]
  },
  {
   "cell_type": "code",
   "execution_count": 9,
   "metadata": {},
   "outputs": [],
   "source": [
    "### Liste des paquets nécessaires\n",
    "rm(list=ls())\n",
    "package_list = c('aws.s3','glmnet','fastDummies','caret')"
   ]
  },
  {
   "cell_type": "code",
   "execution_count": 10,
   "metadata": {},
   "outputs": [
    {
     "name": "stderr",
     "output_type": "stream",
     "text": [
      "Updating HTML index of packages in '.Library'\n",
      "\n",
      "Making 'packages.html' ...\n",
      " done\n",
      "\n",
      "also installing the dependency ‘shape’\n",
      "\n",
      "\n",
      "Updating HTML index of packages in '.Library'\n",
      "\n",
      "Making 'packages.html' ...\n",
      " done\n",
      "\n",
      "Updating HTML index of packages in '.Library'\n",
      "\n",
      "Making 'packages.html' ...\n",
      " done\n",
      "\n",
      "Updating HTML index of packages in '.Library'\n",
      "\n",
      "Making 'packages.html' ...\n",
      " done\n",
      "\n"
     ]
    },
    {
     "data": {
      "text/html": [
       "<ol>\n",
       "\t<li>NULL</li>\n",
       "\t<li>NULL</li>\n",
       "\t<li>NULL</li>\n",
       "\t<li>NULL</li>\n",
       "</ol>\n"
      ],
      "text/latex": [
       "\\begin{enumerate}\n",
       "\\item NULL\n",
       "\\item NULL\n",
       "\\item NULL\n",
       "\\item NULL\n",
       "\\end{enumerate}\n"
      ],
      "text/markdown": [
       "1. NULL\n",
       "2. NULL\n",
       "3. NULL\n",
       "4. NULL\n",
       "\n",
       "\n"
      ],
      "text/plain": [
       "[[1]]\n",
       "NULL\n",
       "\n",
       "[[2]]\n",
       "NULL\n",
       "\n",
       "[[3]]\n",
       "NULL\n",
       "\n",
       "[[4]]\n",
       "NULL\n"
      ]
     },
     "metadata": {},
     "output_type": "display_data"
    }
   ],
   "source": [
    "### Si besoin d'installation, sinon passer à la vignette suivante\n",
    "lapply(package_list, install.packages, character.only = TRUE)"
   ]
  },
  {
   "cell_type": "code",
   "execution_count": 11,
   "metadata": {},
   "outputs": [
    {
     "name": "stderr",
     "output_type": "stream",
     "text": [
      "Loading required package: glmnet\n",
      "\n",
      "Loading required package: Matrix\n",
      "\n",
      "Loaded glmnet 4.0-2\n",
      "\n"
     ]
    },
    {
     "data": {
      "text/html": [
       "<ol>\n",
       "\t<li>TRUE</li>\n",
       "\t<li>TRUE</li>\n",
       "\t<li>TRUE</li>\n",
       "\t<li>TRUE</li>\n",
       "</ol>\n"
      ],
      "text/latex": [
       "\\begin{enumerate}\n",
       "\\item TRUE\n",
       "\\item TRUE\n",
       "\\item TRUE\n",
       "\\item TRUE\n",
       "\\end{enumerate}\n"
      ],
      "text/markdown": [
       "1. TRUE\n",
       "2. TRUE\n",
       "3. TRUE\n",
       "4. TRUE\n",
       "\n",
       "\n"
      ],
      "text/plain": [
       "[[1]]\n",
       "[1] TRUE\n",
       "\n",
       "[[2]]\n",
       "[1] TRUE\n",
       "\n",
       "[[3]]\n",
       "[1] TRUE\n",
       "\n",
       "[[4]]\n",
       "[1] TRUE\n"
      ]
     },
     "metadata": {},
     "output_type": "display_data"
    }
   ],
   "source": [
    "### Chargement des paquets\n",
    "lapply(package_list, require, character.only = TRUE)"
   ]
  },
  {
   "cell_type": "code",
   "execution_count": 13,
   "metadata": {},
   "outputs": [
    {
     "ename": "ERROR",
     "evalue": "Error in curl::curl_fetch_memory(url, handle = handle): SSL: no alternative certificate subject name matches target host name 'us-east-1.minio.stable.innovation.insee.eu'\n",
     "output_type": "error",
     "traceback": [
      "Error in curl::curl_fetch_memory(url, handle = handle): SSL: no alternative certificate subject name matches target host name 'us-east-1.minio.stable.innovation.insee.eu'\nTraceback:\n",
      "1. get_bucket(bucket = bucket, prefix = \"grandedim/\")",
      "2. s3HTTP(verb = \"GET\", bucket = bucket, query = query, parse_response = parse_response, \n .     ...)",
      "3. httr::GET(url, H, query = query, show_progress, ...)",
      "4. request_perform(req, hu$handle$handle)",
      "5. request_fetch(req$output, req$url, handle)",
      "6. request_fetch.write_memory(req$output, req$url, handle)",
      "7. curl::curl_fetch_memory(url, handle = handle)"
     ]
    }
   ],
   "source": [
    "### Chargement des données depuis la plate-forme innovation\n",
    "bucket = \"https://minio.stable.innovation.insee.eu/groupe-1006\"\n",
    "files = get_bucket(bucket = bucket, prefix = \"grandedim/\")\n",
    "save_object(bucket = bucket,  prefix = \"grandedim/\", object=\"grandedim/data_ee.Rda\" ,file=\"grandedim/data_ee.Rda\")"
   ]
  },
  {
   "cell_type": "code",
   "execution_count": 17,
   "metadata": {},
   "outputs": [
    {
     "name": "stdout",
     "output_type": "stream",
     "text": [
      "[1] 15000   718\n"
     ]
    }
   ],
   "source": [
    "### Chargement des données dans R\n",
    "load(\"data_ee.Rda\")\n",
    "\n",
    "data_use = data_ee\n",
    "\n",
    "print(dim(data_use))"
   ]
  },
  {
   "cell_type": "code",
   "execution_count": 18,
   "metadata": {},
   "outputs": [],
   "source": [
    "# Label des variables à utiliser\n",
    "outcome = \"LOG_SAL\"\n",
    "X_1_names = \"DIP\"\n",
    "names_continuous = c(\"AG\", \"AG_2\", \"ANCENTR\",\"HHC\",\"NBENFIND\")\n",
    "names_categorical = c(\"SEXE\",\"APPDIP\",\"SANTGEN\",\"ADMHAND\",\"CATAU2010\", \"CHPUB\",\"CHRON\",\n",
    "                      \"COMSAL\",\"COURED\",\"CSPM\",\"CSPP\",\"FORDAT\",\"DESC\",\"IMMI\",\"DUHAB\",\"ENFRED\",\"SPE\",\n",
    "                      \"MAISOC\",\"MATRI\",\"NAT14\",\"NBAGEENFA\",\"NBENFA1\",\"NBENFA10\",\"NBENFA15\",\"NBENFA18\",\"QP\",\"REG\",\"SO\",\"SOIRC\",\"TYPMEN21\")\n",
    "X_2_names = c(names_continuous,names_categorical)"
   ]
  },
  {
   "cell_type": "code",
   "execution_count": 21,
   "metadata": {},
   "outputs": [
    {
     "data": {
      "text/plain": [
       "   Min. 1st Qu.  Median    Mean 3rd Qu.    Max. \n",
       "  3.401   7.131   7.415   7.389   7.730  11.290 "
      ]
     },
     "metadata": {},
     "output_type": "display_data"
    }
   ],
   "source": [
    "# \"Y\" (outcome) -- log du salaire mensuel\n",
    "Y = data_use[,outcome]\n",
    "summary(Y)"
   ]
  },
  {
   "cell_type": "code",
   "execution_count": 28,
   "metadata": {},
   "outputs": [
    {
     "name": "stdout",
     "output_type": "stream",
     "text": [
      "   ID                                                  Diplome Frequence.Freq\n",
      "1  10 Master (recherche ou professionnel), DEA, DESS, Doctorat           7.82\n",
      "2  12                         Ecoles niveau licence et au-delà           5.13\n",
      "3  21                                             Licence (L3)           6.16\n",
      "4  22                                            Maîtrise (M1)           3.27\n",
      "5  30                                                     DEUG           1.13\n",
      "6  31                                                 DUT, BTS          10.66\n",
      "7  32                             Autre diplôme (niveau bac+2)           0.63\n",
      "8  33                     Paramédical et social (niveau bac+2)           2.81\n",
      "9  41                                     Baccalauréat général           4.97\n",
      "10 42                                        Bac technologique           5.55\n",
      "11 43                                        Bac professionnel           6.53\n",
      "12 44               Brevet de technicien, brevet professionnel           2.47\n",
      "13 50                                                 CAP, BEP          24.79\n",
      "14 60                                      Brevet des collèges           5.01\n",
      "15 70                            Certificat d'études primaires           1.43\n"
     ]
    },
    {
     "name": "stderr",
     "output_type": "stream",
     "text": [
      "Warning message in model.matrix.default(~. - 1, data = data.frame(EDUC = as.factor(data_use[, :\n",
      "“non-list contrasts argument ignored”\n"
     ]
    }
   ],
   "source": [
    "# \"X_1\" (variables d'intérêt -- celles dont on veut connaitre l'effet) -- niveau d'éducation\n",
    "dip_ref = data.frame(\"ID\" = c(\"10\",\"12\",\"22\",\"21\",\"30\",\"31\",\"32\",\"33\",\"41\",\"42\",\"43\",\"44\",\"50\",\"60\",\"70\"),\n",
    "                     \"Diplome\" = c(\"Master (recherche ou professionnel), DEA, DESS, Doctorat\",\n",
    "              \"Ecoles niveau licence et au-delà\",\n",
    "              \"Maîtrise (M1)\",\n",
    "              \"Licence (L3)\",\n",
    "              \"DEUG\",\n",
    "              \"DUT, BTS\",\n",
    "              \"Autre diplôme (niveau bac+2)\",\n",
    "              \"Paramédical et social (niveau bac+2)\",\n",
    "              \"Baccalauréat général\",\n",
    "              \"Bac technologique\",\n",
    "              \"Bac professionnel\",\n",
    "              \"Brevet de technicien, brevet professionnel\",\n",
    "              \"CAP, BEP\",\n",
    "              \"Brevet des collèges\",\n",
    "              \"Certificat d'études primaires\")\n",
    "                     )\n",
    "\n",
    "dip_freq = data.frame(\"Frequence\" = round(100 * table(as.factor(data_use[,X_1_names])) / nrow(data_use), digits=2))\n",
    "\n",
    "print(merge(dip_ref, dip_freq, by.x=\"ID\", by.y=\"Frequence.Var1\", sort = TRUE))\n",
    "\n",
    "X_1 = model.matrix(~. - 1, data = data.frame(\"EDUC\"=as.factor(data_use[,X_1_names])), contrasts.arg = \"EDUC\")\n",
    "X_1 = X_1[,1:(ncol(X_1)-1)] # On enlève la modalité \"sans diplôme\" pour éviter les problèmes de colinéarité."
   ]
  },
  {
   "cell_type": "code",
   "execution_count": 29,
   "metadata": {},
   "outputs": [],
   "source": [
    "# \"X_2\" (variables de contrôle -- celles qu'il faut sélectionner)\n",
    "one_hot_category = dummy_cols(data_use[,names_categorical], remove_most_frequent_dummy=TRUE, remove_selected_columns=TRUE) # on transforme les variables catégorielles en variables binaires\n",
    "X_2 = as.matrix(cbind(data_use[, names_continuous], one_hot_category))\n",
    "X_2 = X_2[,!duplicated(t(X_2))] # On enlève les colonnes dupliquées\n",
    "colinear = caret::findLinearCombos(cbind(X_1,X_2,rep(1,nrow(X_2)))) \n",
    "suppr = colinear$remove-ncol(X_1) # recalage par rapport à l'indice de X_2\n",
    "X_2 = X_2[,-suppr] # On enlève les colonnes qui créent de la multicolinéairité, avec l'inclusion de X_1 et une constante"
   ]
  },
  {
   "cell_type": "code",
   "execution_count": 30,
   "metadata": {},
   "outputs": [],
   "source": [
    "# Identifiants clustering -- pas forcément nécessaire ici\n",
    "ID_menage = data_use[,\"IDENT\"] # Identifiant du ménage, pour cluster dans les écart-types.\n",
    "\n",
    "coef_names = paste(\"X_1\",colnames(X_1),sep=\"\") # nom des variables d'intérêt\n",
    "n = nrow(X_2); p = ncol(X_2)\n",
    "\n",
    "remove(data_use, one_hot_category)"
   ]
  },
  {
   "cell_type": "code",
   "execution_count": 33,
   "metadata": {},
   "outputs": [
    {
     "data": {
      "text/plain": [
       "\n",
       "Call:\n",
       "lm(formula = Y ~ X_1)\n",
       "\n",
       "Residuals:\n",
       "    Min      1Q  Median      3Q     Max \n",
       "-4.1346 -0.2235  0.0532  0.3135  3.4698 \n",
       "\n",
       "Coefficients:\n",
       "            Estimate Std. Error t value Pr(>|t|)    \n",
       "(Intercept)  7.02964    0.01301 540.240  < 2e-16 ***\n",
       "X_1EDUC10    0.79031    0.02053  38.496  < 2e-16 ***\n",
       "X_1EDUC12    0.90035    0.02354  38.254  < 2e-16 ***\n",
       "X_1EDUC21    0.51620    0.02212  23.333  < 2e-16 ***\n",
       "X_1EDUC22    0.71588    0.02780  25.749  < 2e-16 ***\n",
       "X_1EDUC30    0.45279    0.04370  10.362  < 2e-16 ***\n",
       "X_1EDUC31    0.49767    0.01882  26.440  < 2e-16 ***\n",
       "X_1EDUC32    0.42282    0.05730   7.380 1.67e-13 ***\n",
       "X_1EDUC33    0.56889    0.02953  19.266  < 2e-16 ***\n",
       "X_1EDUC41    0.22977    0.02380   9.655  < 2e-16 ***\n",
       "X_1EDUC42    0.35592    0.02290  15.542  < 2e-16 ***\n",
       "X_1EDUC43    0.23758    0.02171  10.942  < 2e-16 ***\n",
       "X_1EDUC44    0.29495    0.03109   9.487  < 2e-16 ***\n",
       "X_1EDUC50    0.25171    0.01578  15.955  < 2e-16 ***\n",
       "X_1EDUC60    0.12183    0.02372   5.136 2.84e-07 ***\n",
       "X_1EDUC70   -0.19368    0.03939  -4.917 8.88e-07 ***\n",
       "---\n",
       "Signif. codes:  0 ‘***’ 0.001 ‘**’ 0.01 ‘*’ 0.05 ‘.’ 0.1 ‘ ’ 1\n",
       "\n",
       "Residual standard error: 0.5439 on 14984 degrees of freedom\n",
       "Multiple R-squared:  0.1817,\tAdjusted R-squared:  0.1809 \n",
       "F-statistic: 221.8 on 15 and 14984 DF,  p-value: < 2.2e-16\n"
      ]
     },
     "metadata": {},
     "output_type": "display_data"
    }
   ],
   "source": [
    "### Exemple de régression du log du salaire sur le niveau de diplôme\n",
    "reg_simple = lm(Y ~ X_1)\n",
    "summary(reg_simple)\n",
    "tau_simple = reg_simple$coefficients[coef_names] # on collecte la valeur des coefficients dans ce vecteur"
   ]
  }
 ],
 "metadata": {
  "kernelspec": {
   "display_name": "R",
   "language": "R",
   "name": "ir"
  },
  "language_info": {
   "codemirror_mode": "r",
   "file_extension": ".r",
   "mimetype": "text/x-r-source",
   "name": "R",
   "pygments_lexer": "r",
   "version": "3.6.2"
  }
 },
 "nbformat": 4,
 "nbformat_minor": 4
}
